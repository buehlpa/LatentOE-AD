{
 "cells": [
  {
   "cell_type": "code",
   "execution_count": 1,
   "metadata": {},
   "outputs": [
    {
     "name": "stderr",
     "output_type": "stream",
     "text": [
      "2023-07-04 10:39:14.780328: I tensorflow/core/platform/cpu_feature_guard.cc:193] This TensorFlow binary is optimized with oneAPI Deep Neural Network Library (oneDNN) to use the following CPU instructions in performance-critical operations:  AVX2 AVX_VNNI FMA\n",
      "To enable them in other operations, rebuild TensorFlow with the appropriate compiler flags.\n",
      "2023-07-04 10:39:14.845801: I tensorflow/core/util/util.cc:169] oneDNN custom operations are on. You may see slightly different numerical results due to floating-point round-off errors from different computation orders. To turn them off, set the environment variable `TF_ENABLE_ONEDNN_OPTS=0`.\n",
      "2023-07-04 10:39:14.863353: E tensorflow/stream_executor/cuda/cuda_blas.cc:2981] Unable to register cuBLAS factory: Attempting to register factory for plugin cuBLAS when one has already been registered\n",
      "2023-07-04 10:39:15.210342: W tensorflow/stream_executor/platform/default/dso_loader.cc:64] Could not load dynamic library 'libnvinfer.so.7'; dlerror: libnvinfer.so.7: cannot open shared object file: No such file or directory\n",
      "2023-07-04 10:39:15.210367: W tensorflow/stream_executor/platform/default/dso_loader.cc:64] Could not load dynamic library 'libnvinfer_plugin.so.7'; dlerror: libnvinfer_plugin.so.7: cannot open shared object file: No such file or directory\n",
      "2023-07-04 10:39:15.210369: W tensorflow/compiler/tf2tensorrt/utils/py_utils.cc:38] TF-TRT Warning: Cannot dlopen some TensorRT libraries. If you would like to use Nvidia GPU with TensorRT, please make sure the missing libraries mentioned above are installed properly.\n",
      "/root/anaconda3/envs/AutencoderTF/lib/python3.9/site-packages/scipy/__init__.py:146: UserWarning: A NumPy version >=1.16.5 and <1.23.0 is required for this version of SciPy (detected version 1.24.3\n",
      "  warnings.warn(f\"A NumPy version >={np_minversion} and <{np_maxversion}\"\n"
     ]
    }
   ],
   "source": [
    "import tensorflow as tf"
   ]
  },
  {
   "cell_type": "code",
   "execution_count": 2,
   "metadata": {},
   "outputs": [
    {
     "name": "stdout",
     "output_type": "stream",
     "text": [
      "tensorflow_version: 2.10.1\n"
     ]
    }
   ],
   "source": [
    "print(f'tensorflow_version: {tf.__version__}')"
   ]
  },
  {
   "cell_type": "code",
   "execution_count": 3,
   "metadata": {},
   "outputs": [
    {
     "name": "stdout",
     "output_type": "stream",
     "text": [
      "Tensorflow: Num GPUs Available:  0\n"
     ]
    },
    {
     "name": "stderr",
     "output_type": "stream",
     "text": [
      "2023-07-04 10:39:21.659493: I tensorflow/stream_executor/cuda/cuda_gpu_executor.cc:980] successful NUMA node read from SysFS had negative value (-1), but there must be at least one NUMA node, so returning NUMA node zero\n",
      "2023-07-04 10:39:21.659599: W tensorflow/stream_executor/platform/default/dso_loader.cc:64] Could not load dynamic library 'libcublas.so.11'; dlerror: libcublas.so.11: cannot open shared object file: No such file or directory\n",
      "2023-07-04 10:39:21.659618: W tensorflow/stream_executor/platform/default/dso_loader.cc:64] Could not load dynamic library 'libcublasLt.so.11'; dlerror: libcublasLt.so.11: cannot open shared object file: No such file or directory\n",
      "2023-07-04 10:39:21.659633: W tensorflow/stream_executor/platform/default/dso_loader.cc:64] Could not load dynamic library 'libcufft.so.10'; dlerror: libcufft.so.10: cannot open shared object file: No such file or directory\n",
      "2023-07-04 10:39:21.659648: W tensorflow/stream_executor/platform/default/dso_loader.cc:64] Could not load dynamic library 'libcurand.so.10'; dlerror: libcurand.so.10: cannot open shared object file: No such file or directory\n",
      "2023-07-04 10:39:21.659661: W tensorflow/stream_executor/platform/default/dso_loader.cc:64] Could not load dynamic library 'libcusolver.so.11'; dlerror: libcusolver.so.11: cannot open shared object file: No such file or directory\n",
      "2023-07-04 10:39:21.659676: W tensorflow/stream_executor/platform/default/dso_loader.cc:64] Could not load dynamic library 'libcusparse.so.11'; dlerror: libcusparse.so.11: cannot open shared object file: No such file or directory\n",
      "2023-07-04 10:39:21.659691: W tensorflow/stream_executor/platform/default/dso_loader.cc:64] Could not load dynamic library 'libcudnn.so.8'; dlerror: libcudnn.so.8: cannot open shared object file: No such file or directory\n",
      "2023-07-04 10:39:21.659694: W tensorflow/core/common_runtime/gpu/gpu_device.cc:1934] Cannot dlopen some GPU libraries. Please make sure the missing libraries mentioned above are installed properly if you would like to use GPU. Follow the guide at https://www.tensorflow.org/install/gpu for how to download and setup the required libraries for your platform.\n",
      "Skipping registering GPU devices...\n"
     ]
    }
   ],
   "source": [
    "print(\"Tensorflow: Num GPUs Available: \", len(tf.config.list_physical_devices('GPU')))"
   ]
  },
  {
   "cell_type": "code",
   "execution_count": 4,
   "metadata": {},
   "outputs": [
    {
     "name": "stdout",
     "output_type": "stream",
     "text": [
      "['/root/LatentOE-AD/Additional_Code_BULE', '/root/LatentOE-AD/Additional_Code_BULE/c', '/root/LatentOE-AD/Additional_Code_BULE/\\\\\\\\Users\\\\\\\\buehl\\\\\\\\git\\\\\\\\projects\\\\\\\\LatentOE-AD', '/root/anaconda3/envs/AutencoderTF/lib/python39.zip', '/root/anaconda3/envs/AutencoderTF/lib/python3.9', '/root/anaconda3/envs/AutencoderTF/lib/python3.9/lib-dynload', '', '/root/anaconda3/envs/AutencoderTF/lib/python3.9/site-packages']\n",
      "tensorflow_version: 2.10.1\n",
      "torch_version: 2.0.1\n",
      "Tensorflow: Num GPUs Available:  0\n",
      "GPU for pytorch: True\n"
     ]
    }
   ],
   "source": [
    "\n",
    "#activate conda env AutencoderTF env tf '2.10.0' , python 3.9.16\n",
    "import tensorflow as tf\n",
    "from skimage.metrics import mean_squared_error, normalized_root_mse,normalized_mutual_information\n",
    "from sklearn.preprocessing import normalize, MinMaxScaler\n",
    "\n",
    "\n",
    "import matplotlib.pyplot as plt\n",
    "import numpy as np\n",
    "import pandas as pd\n",
    "import seaborn as sns\n",
    "from alive_progress import  alive_bar\n",
    "import torch\n",
    "import sys\n",
    "from pathlib import Path\n",
    "import os\n",
    "\n",
    "print(sys.path)\n",
    "sys.path.append('/root/LatentOE-AD')\n",
    "from loader.LoadData import CIFAR10_feat , FMNIST_feat\n",
    "from Additional_Code_BULE.utils.helper_functions  import *\n",
    "from Additional_Code_BULE.utils.AE_models_TF  import *\n",
    "\n",
    "\n",
    "print(f'tensorflow_version: {tf.__version__}')\n",
    "print(f'torch_version: {torch.__version__}')\n",
    "print(\"Tensorflow: Num GPUs Available: \", len(tf.config.list_physical_devices('GPU')))\n",
    "print(f'GPU for pytorch: {torch.cuda.is_available()}')\n",
    "\n",
    "\n",
    "DATA_PATH=\"/root/LatentOE-AD/DATA/fmnist_features/\"\n",
    "modelname='Autoencoder_features_simple_3'\n",
    "MODEL_SHORT= 'AE3_derivatives'\n"
   ]
  },
  {
   "cell_type": "code",
   "execution_count": null,
   "metadata": {},
   "outputs": [],
   "source": []
  },
  {
   "cell_type": "code",
   "execution_count": null,
   "metadata": {},
   "outputs": [],
   "source": [
    "\n",
    "\n",
    "\n",
    "\n",
    "runs=[0,1,2,3,4]    #list of how many runs \n",
    "all_metrics=False # if True, all metrics are calculated, if False only mse \n",
    "testrun=False\n",
    "\n",
    "\n",
    "labels=[0,1,2,3,4,5,6,7,8,9]\n",
    "contam_list=np.round(np.arange(0,0.5,0.05),2)\n",
    "epochs=10\n",
    "\n",
    "if testrun:\n",
    "    labels=[0]\n",
    "    contam_list=[0.0,0.1]\n",
    "    epochs=1\n",
    "\n",
    "MODEL_RESULT_PATH = Path(f\"/root/LatentOE-AD/RESULTS/fmnist/{MODEL_SHORT}\")\n",
    "\n",
    "\n",
    "def main():\n",
    "    with alive_bar(len(runs)*len(labels)*len(contam_list)*10000,force_tty=True) as bar:\n",
    "        #each run creates new samples\n",
    "        for run in runs:\n",
    "            # for every contamination ratio\n",
    "            for contam in contam_list:\n",
    "\n",
    "                nmi,mse,nrmse,csim,msle,normal_label,anomaly,contam_ratio=[],[],[],[],[],[],[],[]\n",
    "\n",
    "                for i in labels:\n",
    "                    # load data for each class\n",
    "                    x_train, y_train, x_test, y_test = FMNIST_feat(i,root=DATA_PATH,contamination_rate=contam)\n",
    "                    x_train=x_train.numpy()\n",
    "                    x_test=x_test.numpy()\n",
    "\n",
    "                    # # transformation of features train\n",
    "                    scaler = MinMaxScaler()\n",
    "                    scaler.fit(x_train)\n",
    "                    x_train=np.sqrt(scaler.transform(x_train))\n",
    "\n",
    "                    # # transformation of features train\n",
    "                    scaler = MinMaxScaler()\n",
    "                    scaler.fit(x_test)\n",
    "                    x_test=np.sqrt(scaler.transform(x_test))\n",
    "                    \n",
    "\n",
    "                    #####  Autoencoder 3\n",
    "                    # instantiate model Autoencoder\n",
    "                    autoencoder = Autoencoder_features_simple_3()\n",
    "                    autoencoder=autoencoder.model()\n",
    "                \n",
    "                    # fit to data\n",
    "                    autoencoder.fit(x_train, x_train,epochs=epochs,shuffle=True,verbose=False)\n",
    "                    decoded_imgs=autoencoder.predict(x_test,verbose=False)\n",
    "\n",
    "                    ##### only for Autoencoder 1\n",
    "                    # #testing on 1000 normal samples and 9000 anomalies per i\n",
    "                    # encoded_imgs = autoencoder.encoder(x_test).numpy()\n",
    "                    # decoded_imgs = autoencoder.decoder(encoded_imgs).numpy()\n",
    "\n",
    "                    #reconstruction metrics for vectors\n",
    "                    for j in range(0,len(decoded_imgs)):\n",
    "                        \n",
    "                        if all_metrics:\n",
    "                            #different metrics \n",
    "                            mse.append(mean_squared_error(x_test[j],decoded_imgs[j]))\n",
    "                            csim.append(tf.keras.losses.cosine_similarity(x_test[j],decoded_imgs[j]).numpy())\n",
    "                            msle.append(tf.keras.losses.mean_squared_logarithmic_error(x_test[j],decoded_imgs[j]).numpy())\n",
    "                            nrmse.append(normalized_root_mse(x_test[j],decoded_imgs[j]))\n",
    "                            nmi.append(normalized_mutual_information(x_test[j],decoded_imgs[j])-1)\n",
    "                        else:\n",
    "                            mse.append(mean_squared_error(x_test[j],decoded_imgs[j]))\n",
    "\n",
    "                        # labels ratio and anomaly ratio\n",
    "                        normal_label.append(i)\n",
    "                        anomaly.append(y_test[j])\n",
    "                        contam_ratio.append(contam)\n",
    "                        bar()\n",
    "                if all_metrics:\n",
    "                    df_per_contam =pd.DataFrame({'mse_': mse, 'csim_': csim,'msle_': msle,'nrmse_': nrmse,'normal_label':normal_label,'nmi_':nmi,'anomaly_':anomaly,'contam_ratio':contam_ratio})#,\n",
    "                else:\n",
    "                    df_per_contam =pd.DataFrame({'mse_': mse,'normal_label':normal_label,'anomaly_':anomaly,'contam_ratio':contam_ratio})#,\n",
    "\n",
    "                SAVE_PATH=os.path.join(MODEL_RESULT_PATH,f\"{modelname}_contam_{int(contam*100)}%_run_{run}.pkl\")\n",
    "                df_per_contam.to_pickle(SAVE_PATH)\n",
    "\n",
    "\n",
    "\n",
    "            save_allresults_pickle(MODEL_RESULT_PATH,run=run,name=modelname)\n",
    "\n",
    "\n",
    "if __name__ == \"__main__\":\n",
    "    main()"
   ]
  },
  {
   "cell_type": "code",
   "execution_count": null,
   "metadata": {},
   "outputs": [],
   "source": [
    "import tensorflow as tf\n",
    "\n",
    "# Assuming you have an autoencoder model named 'autoencoder'\n",
    "# and an input tensor named 'input_data'\n",
    "autoencoder.trainable = False  # Set the model to inference mode\n",
    "output = autoencoder(input_data)\n",
    "\n",
    "# Calculate gradients of the output with respect to the input\n",
    "grads = tf.gradients(output, input_data)[0]\n",
    "\n",
    "# Create a TensorFlow session\n",
    "with tf.compat.v1.Session() as sess:\n",
    "    # Initialize variables\n",
    "    sess.run(tf.compat.v1.global_variables_initializer())\n",
    "\n",
    "    # Retrieve the gradients of the input\n",
    "    input_gradients = sess.run(grads)"
   ]
  },
  {
   "cell_type": "code",
   "execution_count": 27,
   "metadata": {},
   "outputs": [
    {
     "data": {
      "text/plain": [
       "<keras.callbacks.History at 0x7fd0d479c2b0>"
      ]
     },
     "execution_count": 27,
     "metadata": {},
     "output_type": "execute_result"
    }
   ],
   "source": [
    "\n",
    "DATA_PATH=\"/root/LatentOE-AD/DATA/fmnist_features/\"\n",
    "modelname='Autoencoder_features_simple_3'\n",
    "MODEL_SHORT= 'AE3'\n",
    "epochs=5\n",
    "\n",
    "\n",
    "class Autoencoder_features_simple_3():\n",
    "    # simple autoencoder 2 form https://towardsdatascience.com/anomaly-detection-using-autoencoders-5b032178a1ea\n",
    "    \n",
    "    def __init__(self,):\n",
    "        #super(Autoencoder_features_simple_3, self).__init__()\n",
    "        self.hidden_dim_1=1024\n",
    "        self.hidden_dim_2=512\n",
    "        self.input_dim=2048\n",
    "        self.encoding_dim=64\n",
    "        self.learning_rate=1e-7\n",
    "        self.latentdim=64\n",
    "\n",
    "    def model(self,):    \n",
    "            input_layer = tf.keras.layers.Input(shape=(self.input_dim, ))\n",
    "            #Encoder\n",
    "            encoder = tf.keras.layers.Dense(self.input_dim, activation=\"tanh\",activity_regularizer=tf.keras.regularizers.l2(self.learning_rate))(input_layer)\n",
    "            encoder=tf.keras.layers.Dropout(0.2)(encoder)\n",
    "            encoder = tf.keras.layers.Dense(self.hidden_dim_1, activation='relu')(encoder)\n",
    "            encoder = tf.keras.layers.Dense(self.hidden_dim_2, activation=tf.nn.leaky_relu)(encoder)\n",
    "\n",
    "            #latentdim\n",
    "            latent = tf.keras.layers.Dense(self.latentdim, activation='relu')(encoder)\n",
    "\n",
    "            # Decoder\n",
    "            decoder = tf.keras.layers.Dense(self.hidden_dim_2, activation='relu')(latent)\n",
    "            decoder=tf.keras.layers.Dropout(0.2)(decoder)\n",
    "            decoder = tf.keras.layers.Dense(self.hidden_dim_1, activation='relu')(decoder)\n",
    "            decoder = tf.keras.layers.Dense(self.input_dim, activation='tanh')(decoder)\n",
    "            #Autoencoder\n",
    "            autoencoder3 = tf.keras.Model(inputs=input_layer, outputs=decoder)\n",
    "\n",
    "            autoencoder3.compile(optimizer='adam', loss=losses.MeanSquaredError())\n",
    "            return(autoencoder3)\n",
    "\n",
    "\n",
    "\n",
    "\n",
    "x_train, y_train, x_test, y_test = FMNIST_feat(0,root=DATA_PATH,contamination_rate=0.1)\n",
    "x_train=x_train.numpy()\n",
    "x_test=x_test.numpy()\n",
    "\n",
    "# # transformation of features train\n",
    "scaler = MinMaxScaler()\n",
    "scaler.fit(x_train)\n",
    "x_train=np.sqrt(scaler.transform(x_train))\n",
    "\n",
    "# # transformation of features train\n",
    "scaler = MinMaxScaler()\n",
    "scaler.fit(x_test)\n",
    "x_test=np.sqrt(scaler.transform(x_test))\n",
    "\n",
    "\n",
    "#####  Autoencoder 3\n",
    "# instantiate model Autoencoder\n",
    "autoencoder = Autoencoder_features_simple_3()\n",
    "autoencoder=autoencoder.model()\n",
    "\n",
    "# fit to data\n",
    "autoencoder.fit(x_train, x_train,epochs=epochs,shuffle=True,verbose=False)\n",
    "#decoded_imgs=autoencoder.predict(x_test,verbose=False)\n",
    "\n"
   ]
  },
  {
   "cell_type": "code",
   "execution_count": 24,
   "metadata": {},
   "outputs": [],
   "source": [
    "# and an input tensor named 'input_data'\n",
    "#autoencoder.trainable = False  # Set the model to inference mode\n",
    "\n",
    "# Create a TensorFlow GradientTape context\n",
    "with tf.GradientTape() as tape:\n",
    "    # Forward pass\n",
    "    output = autoencoder(x_test)\n",
    "\n",
    "# Calculate gradients of the output with respect to the input\n",
    "#input_gradients = tape.gradient(output, x_test)\n",
    "\n",
    "\n",
    "\n"
   ]
  },
  {
   "cell_type": "code",
   "execution_count": 34,
   "metadata": {},
   "outputs": [
    {
     "ename": "TypeError",
     "evalue": "'NoneType' object is not subscriptable",
     "output_type": "error",
     "traceback": [
      "\u001b[0;31m---------------------------------------------------------------------------\u001b[0m",
      "\u001b[0;31mTypeError\u001b[0m                                 Traceback (most recent call last)",
      "Cell \u001b[0;32mIn[34], line 31\u001b[0m\n\u001b[1;32m     28\u001b[0m gradients \u001b[39m=\u001b[39m tape\u001b[39m.\u001b[39mgradient(output, autoencoder_model\u001b[39m.\u001b[39minput)\n\u001b[1;32m     30\u001b[0m \u001b[39m# Print the gradients for each input neuron\u001b[39;00m\n\u001b[0;32m---> 31\u001b[0m \u001b[39mfor\u001b[39;00m i, gradient \u001b[39min\u001b[39;00m \u001b[39menumerate\u001b[39m(gradients[\u001b[39m0\u001b[39;49m]):\n\u001b[1;32m     32\u001b[0m     \u001b[39mprint\u001b[39m(\u001b[39mf\u001b[39m\u001b[39m\"\u001b[39m\u001b[39mGradient of input neuron \u001b[39m\u001b[39m{\u001b[39;00mi\u001b[39m}\u001b[39;00m\u001b[39m: \u001b[39m\u001b[39m{\u001b[39;00mgradient\u001b[39m}\u001b[39;00m\u001b[39m\"\u001b[39m)\n",
      "\u001b[0;31mTypeError\u001b[0m: 'NoneType' object is not subscriptable"
     ]
    }
   ],
   "source": [
    "epochs =10\n",
    "# Load and preprocess the data\n",
    "x_train, y_train, x_test, y_test = FMNIST_feat(0, root=DATA_PATH, contamination_rate=0.1)\n",
    "x_train = x_train.numpy()\n",
    "x_test = x_test.numpy()\n",
    "\n",
    "# Scale the input features\n",
    "scaler = MinMaxScaler()\n",
    "scaler.fit(x_train)\n",
    "x_train = np.sqrt(scaler.transform(x_train))\n",
    "\n",
    "# Instantiate the autoencoder model\n",
    "autoencoder = Autoencoder_features_simple_3()\n",
    "autoencoder_model = autoencoder.model()\n",
    "\n",
    "# Fit the model to the data\n",
    "autoencoder_model.fit(x_train, x_train, epochs=epochs, shuffle=True, verbose=False)\n",
    "\n",
    "# Calculate the derivatives\n",
    "with tf.GradientTape() as tape:\n",
    "    # Watch the input layer of the autoencoder model\n",
    "    tape.watch(autoencoder_model.input)\n",
    "    \n",
    "    # Forward pass\n",
    "    output = autoencoder_model(x_train)\n",
    "    \n",
    "# Calculate the derivatives of the output with respect to each input neuron\n",
    "gradients = tape.gradient(output, autoencoder_model.input)\n",
    "\n",
    "# Print the gradients for each input neuron\n",
    "for i, gradient in enumerate(gradients[0]):\n",
    "    print(f\"Gradient of input neuron {i}: {gradient}\")"
   ]
  },
  {
   "cell_type": "code",
   "execution_count": 37,
   "metadata": {},
   "outputs": [
    {
     "data": {
      "text/plain": [
       "<tf.Tensor 'model_6/dense_48/Tanh:0' shape=(6666, 2048) dtype=float32>"
      ]
     },
     "execution_count": 37,
     "metadata": {},
     "output_type": "execute_result"
    }
   ],
   "source": [
    "output"
   ]
  },
  {
   "cell_type": "code",
   "execution_count": 26,
   "metadata": {},
   "outputs": [
    {
     "ename": "AttributeError",
     "evalue": "'numpy.ndarray' object has no attribute '_id'",
     "output_type": "error",
     "traceback": [
      "\u001b[0;31m---------------------------------------------------------------------------\u001b[0m",
      "\u001b[0;31mAttributeError\u001b[0m                            Traceback (most recent call last)",
      "Cell \u001b[0;32mIn[26], line 1\u001b[0m\n\u001b[0;32m----> 1\u001b[0m tape\u001b[39m.\u001b[39;49mgradient(output, x_test)\n",
      "File \u001b[0;32m~/anaconda3/envs/AutencoderTF/lib/python3.9/site-packages/tensorflow/python/eager/backprop.py:1113\u001b[0m, in \u001b[0;36mGradientTape.gradient\u001b[0;34m(self, target, sources, output_gradients, unconnected_gradients)\u001b[0m\n\u001b[1;32m   1107\u001b[0m   output_gradients \u001b[39m=\u001b[39m (\n\u001b[1;32m   1108\u001b[0m       composite_tensor_gradient\u001b[39m.\u001b[39mget_flat_tensors_for_gradients(\n\u001b[1;32m   1109\u001b[0m           output_gradients))\n\u001b[1;32m   1110\u001b[0m   output_gradients \u001b[39m=\u001b[39m [\u001b[39mNone\u001b[39;00m \u001b[39mif\u001b[39;00m x \u001b[39mis\u001b[39;00m \u001b[39mNone\u001b[39;00m \u001b[39melse\u001b[39;00m ops\u001b[39m.\u001b[39mconvert_to_tensor(x)\n\u001b[1;32m   1111\u001b[0m                       \u001b[39mfor\u001b[39;00m x \u001b[39min\u001b[39;00m output_gradients]\n\u001b[0;32m-> 1113\u001b[0m flat_grad \u001b[39m=\u001b[39m imperative_grad\u001b[39m.\u001b[39;49mimperative_grad(\n\u001b[1;32m   1114\u001b[0m     \u001b[39mself\u001b[39;49m\u001b[39m.\u001b[39;49m_tape,\n\u001b[1;32m   1115\u001b[0m     flat_targets,\n\u001b[1;32m   1116\u001b[0m     flat_sources,\n\u001b[1;32m   1117\u001b[0m     output_gradients\u001b[39m=\u001b[39;49moutput_gradients,\n\u001b[1;32m   1118\u001b[0m     sources_raw\u001b[39m=\u001b[39;49mflat_sources_raw,\n\u001b[1;32m   1119\u001b[0m     unconnected_gradients\u001b[39m=\u001b[39;49munconnected_gradients)\n\u001b[1;32m   1121\u001b[0m \u001b[39mif\u001b[39;00m \u001b[39mnot\u001b[39;00m \u001b[39mself\u001b[39m\u001b[39m.\u001b[39m_persistent:\n\u001b[1;32m   1122\u001b[0m   \u001b[39m# Keep track of watched variables before setting tape to None\u001b[39;00m\n\u001b[1;32m   1123\u001b[0m   \u001b[39mself\u001b[39m\u001b[39m.\u001b[39m_watched_variables \u001b[39m=\u001b[39m \u001b[39mself\u001b[39m\u001b[39m.\u001b[39m_tape\u001b[39m.\u001b[39mwatched_variables()\n",
      "File \u001b[0;32m~/anaconda3/envs/AutencoderTF/lib/python3.9/site-packages/tensorflow/python/eager/imperative_grad.py:67\u001b[0m, in \u001b[0;36mimperative_grad\u001b[0;34m(tape, target, sources, output_gradients, sources_raw, unconnected_gradients)\u001b[0m\n\u001b[1;32m     63\u001b[0m \u001b[39mexcept\u001b[39;00m \u001b[39mValueError\u001b[39;00m:\n\u001b[1;32m     64\u001b[0m   \u001b[39mraise\u001b[39;00m \u001b[39mValueError\u001b[39;00m(\n\u001b[1;32m     65\u001b[0m       \u001b[39m\"\u001b[39m\u001b[39mUnknown value for unconnected_gradients: \u001b[39m\u001b[39m%r\u001b[39;00m\u001b[39m\"\u001b[39m \u001b[39m%\u001b[39m unconnected_gradients)\n\u001b[0;32m---> 67\u001b[0m \u001b[39mreturn\u001b[39;00m pywrap_tfe\u001b[39m.\u001b[39;49mTFE_Py_TapeGradient(\n\u001b[1;32m     68\u001b[0m     tape\u001b[39m.\u001b[39;49m_tape,  \u001b[39m# pylint: disable=protected-access\u001b[39;49;00m\n\u001b[1;32m     69\u001b[0m     target,\n\u001b[1;32m     70\u001b[0m     sources,\n\u001b[1;32m     71\u001b[0m     output_gradients,\n\u001b[1;32m     72\u001b[0m     sources_raw,\n\u001b[1;32m     73\u001b[0m     compat\u001b[39m.\u001b[39;49mas_str(unconnected_gradients\u001b[39m.\u001b[39;49mvalue))\n",
      "\u001b[0;31mAttributeError\u001b[0m: 'numpy.ndarray' object has no attribute '_id'"
     ]
    }
   ],
   "source": [
    "tape.gradient(output, x_test)"
   ]
  },
  {
   "cell_type": "code",
   "execution_count": 32,
   "metadata": {},
   "outputs": [
    {
     "ename": "AttributeError",
     "evalue": "'NoneType' object has no attribute '_tape'",
     "output_type": "error",
     "traceback": [
      "\u001b[0;31m---------------------------------------------------------------------------\u001b[0m",
      "\u001b[0;31mAttributeError\u001b[0m                            Traceback (most recent call last)",
      "Cell \u001b[0;32mIn[32], line 10\u001b[0m\n\u001b[1;32m      8\u001b[0m \u001b[39m# Create a TensorFlow GradientTape\u001b[39;00m\n\u001b[1;32m      9\u001b[0m tape \u001b[39m=\u001b[39m tf\u001b[39m.\u001b[39mGradientTape()\n\u001b[0;32m---> 10\u001b[0m tape\u001b[39m.\u001b[39;49mwatch(x_test)\n\u001b[1;32m     12\u001b[0m \u001b[39m# Forward pass\u001b[39;00m\n\u001b[1;32m     13\u001b[0m output \u001b[39m=\u001b[39m autoencoder(x_test)\n",
      "File \u001b[0;32m~/anaconda3/envs/AutencoderTF/lib/python3.9/site-packages/tensorflow/python/eager/backprop.py:934\u001b[0m, in \u001b[0;36mGradientTape.watch\u001b[0;34m(self, tensor)\u001b[0m\n\u001b[1;32m    932\u001b[0m   tape\u001b[39m.\u001b[39mwatch_variable(\u001b[39mself\u001b[39m\u001b[39m.\u001b[39m_tape, t)\n\u001b[1;32m    933\u001b[0m \u001b[39melse\u001b[39;00m:\n\u001b[0;32m--> 934\u001b[0m   tape\u001b[39m.\u001b[39;49mwatch(\u001b[39mself\u001b[39;49m\u001b[39m.\u001b[39;49m_tape, t)\n",
      "File \u001b[0;32m~/anaconda3/envs/AutencoderTF/lib/python3.9/site-packages/tensorflow/python/eager/tape.py:56\u001b[0m, in \u001b[0;36mwatch\u001b[0;34m(tape, tensor)\u001b[0m\n\u001b[1;32m     54\u001b[0m \u001b[39mdef\u001b[39;00m \u001b[39mwatch\u001b[39m(tape, tensor):\n\u001b[1;32m     55\u001b[0m \u001b[39m  \u001b[39m\u001b[39m\"\"\"Marks this tensor to be watched by the given tape.\"\"\"\u001b[39;00m\n\u001b[0;32m---> 56\u001b[0m   pywrap_tfe\u001b[39m.\u001b[39mTFE_Py_TapeWatch(tape\u001b[39m.\u001b[39;49m_tape, tensor)\n",
      "\u001b[0;31mAttributeError\u001b[0m: 'NoneType' object has no attribute '_tape'"
     ]
    }
   ],
   "source": [
    "x_test=tf.convert_to_tensor(x_test)\n",
    "\n",
    "\n",
    "# Assuming you have an autoencoder model named 'autoencoder'\n",
    "# and an input tensor named 'input_data'\n",
    "autoencoder.trainable = False  # Set the model to inference mode\n",
    "\n",
    "# Create a TensorFlow GradientTape\n",
    "tape = tf.GradientTape()\n",
    "tape.watch(x_test)\n",
    "\n",
    "# Forward pass\n",
    "output = autoencoder(x_test)\n",
    "\n",
    "# Calculate gradients of the output with respect to the input\n",
    "input_gradients = tape.gradient(output, x_test)\n",
    "\n",
    "# Release the tape\n",
    "del tape"
   ]
  }
 ],
 "metadata": {
  "kernelspec": {
   "display_name": "AutencoderTF3",
   "language": "python",
   "name": "python3"
  },
  "language_info": {
   "codemirror_mode": {
    "name": "ipython",
    "version": 3
   },
   "file_extension": ".py",
   "mimetype": "text/x-python",
   "name": "python",
   "nbconvert_exporter": "python",
   "pygments_lexer": "ipython3",
   "version": "3.9.16"
  },
  "orig_nbformat": 4
 },
 "nbformat": 4,
 "nbformat_minor": 2
}
